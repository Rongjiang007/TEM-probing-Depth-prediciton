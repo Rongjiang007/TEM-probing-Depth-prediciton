{
 "cells": [
  {
   "cell_type": "code",
   "execution_count": null,
   "id": "2740e305",
   "metadata": {},
   "outputs": [],
   "source": [
    "from tensorflow.keras.models import load_model\n",
    "from mpl_toolkits.axes_grid1 import make_axes_locatable\n",
    "import numpy as np\n",
    "import matplotlib.pyplot as plt\n",
    "\n",
    "\n",
    "model = load_model('CNN/Invdep20240213.h5')\n",
    "model.load_weights('CNN/Invdep20240213_.ckpt')\n",
    "\n",
    "\n",
    "data1=np.load('data_obs3.npy')\n",
    "time_channels = np.logspace(np.log10(5e-5), np.log10(1.0e-3), 21)\n",
    "#time_channels = np.logspace(-5, -1.0s, 21)\n",
    "\n",
    "\n",
    "data1_comb=[]\n",
    "for i in range(data1.shape[0]):\n",
    "    \n",
    "    temp=data1[i,:]\n",
    "    tem1=np.zeros([32,1,2])\n",
    "    Np=len(time_channels)\n",
    "    tem1[:Np,0,0]=-np.log10(time_channels)\n",
    "    tem1[:Np,0,1]=-np.log10(abs(temp)*1e4)\n",
    "    tem1[-1,0,0]=0   #Transmitter height\n",
    "    tem1[-1,0,1]=0   #Receiver height\n",
    "    data1_comb.append(tem1)\n",
    "data1_comb=np.array(data1_comb)\n",
    "\n",
    "prediction = model.predict(data1_comb)\n",
    "\n",
    "print(prediction)\n",
    "\n",
    "np.save('prediction_depth.npy', prediction)"
   ]
  }
 ],
 "metadata": {
  "kernelspec": {
   "display_name": "Python 3 (ipykernel)",
   "language": "python",
   "name": "python3"
  },
  "language_info": {
   "codemirror_mode": {
    "name": "ipython",
    "version": 3
   },
   "file_extension": ".py",
   "mimetype": "text/x-python",
   "name": "python",
   "nbconvert_exporter": "python",
   "pygments_lexer": "ipython3",
   "version": "3.8.16"
  }
 },
 "nbformat": 4,
 "nbformat_minor": 5
}
